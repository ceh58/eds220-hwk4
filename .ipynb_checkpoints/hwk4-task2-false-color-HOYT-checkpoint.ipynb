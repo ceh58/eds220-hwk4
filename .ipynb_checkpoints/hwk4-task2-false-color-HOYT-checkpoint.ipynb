{
 "cells": [
  {
   "cell_type": "code",
   "execution_count": null,
   "id": "555835e5-9214-4b2a-97b8-87959af4474d",
   "metadata": {},
   "outputs": [],
   "source": [
    "sur_reflectance = \"/courses/EDS220/data/hwk4_landsat_data landsat8-2018-01-26-sb-simplified.nc"
   ]
  }
 ],
 "metadata": {
  "kernelspec": {
   "display_name": "Anaconda 3 (EDS220)",
   "language": "python",
   "name": "eds220-env"
  },
  "language_info": {
   "codemirror_mode": {
    "name": "ipython",
    "version": 3
   },
   "file_extension": ".py",
   "mimetype": "text/x-python",
   "name": "python",
   "nbconvert_exporter": "python",
   "pygments_lexer": "ipython3",
   "version": "3.11.4"
  }
 },
 "nbformat": 4,
 "nbformat_minor": 5
}
